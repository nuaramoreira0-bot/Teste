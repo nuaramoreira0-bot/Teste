{
  "nbformat": 4,
  "nbformat_minor": 0,
  "metadata": {
    "colab": {
      "provenance": [],
      "authorship_tag": "ABX9TyNA6bTXoCP45RaBOjjw7zJH",
      "include_colab_link": true
    },
    "kernelspec": {
      "name": "python3",
      "display_name": "Python 3"
    },
    "language_info": {
      "name": "python"
    }
  },
  "cells": [
    {
      "cell_type": "markdown",
      "metadata": {
        "id": "view-in-github",
        "colab_type": "text"
      },
      "source": [
        "<a href=\"https://colab.research.google.com/github/nuaramoreira0-bot/Teste/blob/main/C%C3%B3pia_de_Untitled2.ipynb\" target=\"_parent\"><img src=\"https://colab.research.google.com/assets/colab-badge.svg\" alt=\"Open In Colab\"/></a>"
      ]
    },
    {
      "cell_type": "code",
      "execution_count": null,
      "metadata": {
        "colab": {
          "base_uri": "https://localhost:8080/"
        },
        "id": "_DNUFSDeOkqs",
        "outputId": "2083fe11-5835-470e-f632-873073fc4385"
      },
      "outputs": [
        {
          "output_type": "stream",
          "name": "stdout",
          "text": [
            "Verificação para o número 55:\n",
            "O número 55 **PERTENCE** à sequência de Fibonacci!\n",
            "------------------------------\n",
            "Verificação para o número 6:\n",
            "O número 6 **NÃO PERTENCE** à sequência de Fibonacci.\n",
            "------------------------------\n",
            "Digite um número inteiro positivo para verificar na sequência de Fibonacci: 15\n",
            "Verificação para o número 15:\n",
            "O número 15 **NÃO PERTENCE** à sequência de Fibonacci.\n"
          ]
        }
      ],
      "source": [
        "def verifica_fibonacci(numero):\n",
        "    if numero < 0:\n",
        "        print(f\"O número {numero} é negativo e não pertence à sequência de Fibonacci padrão.\")\n",
        "        return\n",
        "    if numero == 0 or numero == 1:\n",
        "        print(f\"O número {numero} **PERTENCE** à sequência de Fibonacci.\")\n",
        "        return\n",
        "    a, b = 0, 1\n",
        "    while a < numero:\n",
        "        proximo_termo = a + b\n",
        "        a = b\n",
        "        b = proximo_termo\n",
        "    if a == numero:\n",
        "        print(f\"O número {numero} **PERTENCE** à sequência de Fibonacci!\")\n",
        "    else:\n",
        "        print(f\"O número {numero} **NÃO PERTENCE** à sequência de Fibonacci.\")\n",
        "\n",
        "numero_alvo_a = 55\n",
        "print(f\"Verificação para o número {numero_alvo_a}:\")\n",
        "verifica_fibonacci(numero_alvo_a)\n",
        "\n",
        "print(\"-\" * 30)\n",
        "numero_alvo_b = 6\n",
        "print(f\"Verificação para o número {numero_alvo_b}:\")\n",
        "verifica_fibonacci(numero_alvo_b)\n",
        "\n",
        "print(\"-\" * 30)\n",
        "\n",
        "try:\n",
        "    entrada = input(\"Digite um número inteiro positivo para verificar na sequência de Fibonacci: \")\n",
        "    numero_alvo_c = int(entrada)\n",
        "    print(f\"Verificação para o número {numero_alvo_c}:\")\n",
        "    verifica_fibonacci(numero_alvo_c)\n",
        "except ValueError:\n",
        "    print(\"Entrada inválida. Por favor, insira um número inteiro.\")"
      ]
    },
    {
      "cell_type": "code",
      "source": [
        "import json\n",
        "from decimal import Decimal, getcontext\n",
        "import os\n",
        "\n",
        "getcontext().prec = 10\n",
        "\n",
        "NOME_DO_ARQUIVO = \"dados.json\"\n",
        "\n",
        "def formatar_moeda(valor):\n",
        "    return f\"{valor:,.2f}\".replace('.', 'X').replace(',', '.').replace('X', ',')\n",
        "\n",
        "\n",
        "try:\n",
        "\n",
        "    caminho_completo = os.path.abspath(NOME_DO_ARQUIVO)\n",
        "    print(f\"Tentando ler o arquivo: {caminho_completo}\")\n",
        "\n",
        "    with open(NOME_DO_ARQUIVO, 'r', encoding='utf-8') as arquivo:\n",
        "        dados_mensais = json.load(arquivo)\n",
        "\n",
        "    print(\"Arquivo JSON lido com sucesso.\")\n",
        "\n",
        "except FileNotFoundError:\n",
        "    print(f\"\\nERRO: O arquivo '{NOME_DO_ARQUIVO}' não foi encontrado.\")\n",
        "    print(\"Certifique-se de que o arquivo está na mesma pasta do script Python.\")\n",
        "    exit()\n",
        "except json.JSONDecodeError as e:\n",
        "    print(f\"\\nERRO: O arquivo '{NOME_DO_ARQUIVO}' está com formato JSON inválido.\")\n",
        "    print(f\"Detalhe do erro de parseamento: {e}\")\n",
        "    exit()\n",
        "except Exception as e:\n",
        "    print(f\"\\nERRO inesperado ao carregar o arquivo: {e}\")\n",
        "    exit()\n",
        "\n",
        "faturamentos_validos = []\n",
        "dias_totais = 0\n",
        "for item in dados_mensais:\n",
        "    dias_totais += 1\n",
        "\n",
        "\n",
        "    try:\n",
        "        valor = Decimal(item.get('valor', 0.0))\n",
        "    except Exception:\n",
        "        continue\n",
        "    if valor > 0:\n",
        "        faturamentos_validos.append(valor)\n",
        "\n",
        "\n",
        "if not faturamentos_validos:\n",
        "    print(\"\\nNão há dados de faturamento válidos (> R$ 0,00) para processamento.\")\n",
        "else:\n",
        "    dias_com_faturamento = len(faturamentos_validos)\n",
        "\n",
        "    menor_faturamento = min(faturamentos_validos)\n",
        "\n",
        "    maior_faturamento = max(faturamentos_validos)\n",
        "\n",
        "    soma_total = sum(faturamentos_validos)\n",
        "    media_mensal = soma_total / Decimal(dias_com_faturamento)\n",
        "\n",
        "    dias_acima_da_media = sum(1 for f in faturamentos_validos if f > media_mensal)\n",
        "\n",
        "    print(\"\\n--- ANÁLISE DE FATURAMENTO MENSAL ---\")\n",
        "    print(f\"Total de dias no mês (base de dados): {dias_totais}\")\n",
        "    print(f\"Dias considerados na média (faturamento > R$ 0,00): {dias_com_faturamento}\")\n",
        "    print(f\"Média Mensal de Faturamento (dias válidos): R$ {formatar_moeda(media_mensal)}\")\n",
        "    print(\"-\" * 50)\n",
        "\n",
        "    print(f\"• Menor valor de faturamento: R$ {formatar_moeda(menor_faturamento)}\")\n",
        "    print(f\"• Maior valor de faturamento: R$ {formatar_moeda(maior_faturamento)}\")\n",
        "    print(f\"• Número de dias com faturamento superior à média: {dias_acima_da_media} dias\")"
      ],
      "metadata": {
        "colab": {
          "base_uri": "https://localhost:8080/"
        },
        "id": "UfDXHq7DP_fq",
        "outputId": "986a8db1-abcf-4ee6-f182-bb741794fdbc"
      },
      "execution_count": null,
      "outputs": [
        {
          "output_type": "stream",
          "name": "stdout",
          "text": [
            "Tentando ler o arquivo: /content/dados.json\n",
            "Arquivo JSON lido com sucesso.\n",
            "\n",
            "--- ANÁLISE DE FATURAMENTO MENSAL ---\n",
            "Total de dias no mês (base de dados): 30\n",
            "Dias considerados na média (faturamento > R$ 0,00): 21\n",
            "Média Mensal de Faturamento (dias válidos): R$ 20.865,37\n",
            "--------------------------------------------------\n",
            "• Menor valor de faturamento: R$ 373,78\n",
            "• Maior valor de faturamento: R$ 48.924,24\n",
            "• Número de dias com faturamento superior à média: 10 dias\n"
          ]
        }
      ]
    },
    {
      "cell_type": "markdown",
      "source": [
        "# Nova seção"
      ],
      "metadata": {
        "id": "4h1d6o8oRkDi"
      }
    },
    {
      "cell_type": "code",
      "source": [
        "from decimal import Decimal, getcontext\n",
        "\n",
        "getcontext().prec = 10\n",
        "faturamento_por_estado = {\n",
        "    \"SP\": Decimal(\"67836.43\"),\n",
        "    \"RJ\": Decimal(\"36678.66\"),\n",
        "    \"MG\": Decimal(\"29229.88\"),\n",
        "    \"ES\": Decimal(\"27165.48\"),\n",
        "    \"Outros\": Decimal(\"19849.53\")\n",
        "}\n",
        "\n",
        "def formatar_moeda(valor):\n",
        "    return f\"{valor:,.2f}\".replace('.', 'X').replace(',', '.').replace('X', ',')\n",
        "\n",
        "valor_total = sum(faturamento_por_estado.values())\n",
        "\n",
        "percentuais = {}\n",
        "print(f\"--- CÁLCULO DO PERCENTUAL DE REPRESENTAÇÃO ---\")\n",
        "print(f\"Faturamento Total: R$ {formatar_moeda(valor_total)}\")\n",
        "print(\"-\" * 45)\n",
        "\n",
        "for estado, faturamento in faturamento_por_estado.items():\n",
        "    percentual = (faturamento / valor_total) * 100\n",
        "    percentuais[estado] = percentual\n",
        "\n",
        "\n",
        "    print(f\"{estado:<8}: R$ {formatar_moeda(faturamento)} | {percentual:7.2f}%\")\n",
        "\n",
        "print(\"-\" * 45)\n",
        "soma_percentuais = sum(percentuais.values())\n",
        "print(f\"Total Percentual: {soma_percentuais:.2f}%\")"
      ],
      "metadata": {
        "colab": {
          "base_uri": "https://localhost:8080/"
        },
        "id": "J4hZHdErSfnD",
        "outputId": "acbe548a-fb22-4a8a-da8e-e0ba6d07c97b"
      },
      "execution_count": null,
      "outputs": [
        {
          "output_type": "stream",
          "name": "stdout",
          "text": [
            "--- CÁLCULO DO PERCENTUAL DE REPRESENTAÇÃO ---\n",
            "Faturamento Total: R$ 180.759,98\n",
            "---------------------------------------------\n",
            "SP      : R$ 67.836,43 |   37.53%\n",
            "RJ      : R$ 36.678,66 |   20.29%\n",
            "MG      : R$ 29.229,88 |   16.17%\n",
            "ES      : R$ 27.165,48 |   15.03%\n",
            "Outros  : R$ 19.849,53 |   10.98%\n",
            "---------------------------------------------\n",
            "Total Percentual: 100.00%\n"
          ]
        }
      ]
    },
    {
      "cell_type": "code",
      "source": [
        "def inverte_string(s):\n",
        "\n",
        "    caracteres = list(s)\n",
        "\n",
        "\n",
        "    i = 0\n",
        "    j = len(caracteres) - 1\n",
        "\n",
        "    while i < j:\n",
        "        temp = caracteres[i]\n",
        "        caracteres[i] = caracteres[j]\n",
        "        caracteres[j] = temp\n",
        "\n",
        "\n",
        "        i += 1\n",
        "        j -= 1\n",
        "\n",
        "    string_invertida = \"\".join(caracteres)\n",
        "\n",
        "    return string_invertida\n",
        "\n",
        "string_original_1 = \"Target Sistemas\"\n",
        "resultado_1 = inverte_string(string_original_1)\n",
        "\n",
        "print(f\"Original (1): {string_original_1}\")\n",
        "print(f\"Invertida (1): {resultado_1}\")\n",
        "\n",
        "print(\"-\" * 30)\n",
        "\n",
        "try:\n",
        "    string_original_2 = input(\"Digite a string que deseja inverter: \")\n",
        "    resultado_2 = inverte_string(string_original_2)\n",
        "\n",
        "    print(f\"Original (2): {string_original_2}\")\n",
        "    print(f\"Invertida (2): {resultado_2}\")\n",
        "\n",
        "except EOFError:\n",
        "    print(\"\\n[Não foi possível ler a entrada do usuário neste ambiente.]\")"
      ],
      "metadata": {
        "colab": {
          "base_uri": "https://localhost:8080/"
        },
        "id": "3F_ZKG8vSmJy",
        "outputId": "87964481-9eff-43f9-f244-fc9b633d7eb0"
      },
      "execution_count": null,
      "outputs": [
        {
          "output_type": "stream",
          "name": "stdout",
          "text": [
            "Original (1): Target Sistemas\n",
            "Invertida (1): sametsiS tegraT\n",
            "------------------------------\n",
            "Digite a string que deseja inverter: ei\n",
            "Original (2): ei\n",
            "Invertida (2): ie\n"
          ]
        }
      ]
    },
    {
      "cell_type": "markdown",
      "source": [
        "# Nova seção"
      ],
      "metadata": {
        "id": "CLhH9AwWRkt6"
      }
    }
  ]
}